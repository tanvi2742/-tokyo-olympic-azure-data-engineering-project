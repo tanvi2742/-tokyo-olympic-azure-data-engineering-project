from pyspark.sql.functions import col
from pyspark.sql.types import *

# --------------------------
# Configure Spark for ADLS Gen2 Access via OAuth
# --------------------------
spark.conf.set("fs.azure.account.auth.type.tokyoolympicdatatanvi.dfs.core.windows.net", "OAuth")
spark.conf.set("fs.azure.account.oauth.provider.type.tokyoolympicdatatanvi.dfs.core.windows.net", 
               "org.apache.hadoop.fs.azurebfs.oauth2.ClientCredsTokenProvider")
spark.conf.set("fs.azure.account.oauth2.client.id.tokyoolympicdatatanvi.dfs.core.windows.net", 
               "ADD CLIENT ID")
spark.conf.set("fs.azure.account.oauth2.client.secret.tokyoolympicdatatanvi.dfs.core.windows.net", 
               "ADD SECRET KEY")
spark.conf.set("fs.azure.account.oauth2.client.endpoint.tokyoolympicdatatanvi.dfs.core.windows.net", 
               "https://login.microsoftonline.com/ADD TENANT ID/oauth2/token")

# --------------------------
# Load CSV files from ADLS Gen2
# --------------------------
athletes = spark.read.option("header", True).option("inferSchema", True).csv(
    "abfss://tokyo-olympic-data@tokyoolympicdatatanvi.dfs.core.windows.net/raw-data/athletes.csv")
coaches = spark.read.option("header", True).option("inferSchema", True).csv(
    "abfss://tokyo-olympic-data@tokyoolympicdatatanvi.dfs.core.windows.net/raw-data/coaches.csv")
entriesgender = spark.read.option("header", True).csv(
    "abfss://tokyo-olympic-data@tokyoolympicdatatanvi.dfs.core.windows.net/raw-data/entriesgender.csv")
medals = spark.read.option("header", True).csv(
    "abfss://tokyo-olympic-data@tokyoolympicdatatanvi.dfs.core.windows.net/raw-data/medals.csv")
teams = spark.read.option("header", True).option("inferSchema", True).csv(
    "abfss://tokyo-olympic-data@tokyoolympicdatatanvi.dfs.core.windows.net/raw-data/teams.csv")

# --------------------------
# Cast necessary columns to IntegerType
# --------------------------
entriesgender = entriesgender.withColumn("Female", col("Female").cast("int")) \
                             .withColumn("Male", col("Male").cast("int")) \
                             .withColumn("Total", col("Total").cast("int"))

medals = medals.withColumn("Gold", col("Gold").cast("int")) \
               .withColumn("Silver", col("Silver").cast("int")) \
               .withColumn("Bronze", col("Bronze").cast("int")) \
               .withColumn("Total", col("Total").cast("int"))

# --------------------------
# Preview schema and top results
# --------------------------
entriesgender.printSchema()
medals.printSchema()

# Show top countries based on Gold medals
top_gold_medal_countries = medals.orderBy(col("Gold").desc()).select("TeamCountry", "Gold")
top_gold_medal_countries.show()

# --------------------------
# Write transformed data back to ADLS Gen2 (partitioned as single file)
# --------------------------
athletes.repartition(1).write.mode("overwrite").option("header", 'true').csv(
    "abfss://tokyo-olympic-data@tokyoolympicdatatanvi.dfs.core.windows.net/transformed-data/athletes")

coaches.repartition(1).write.mode("overwrite").option("header", 'true').csv(
    "abfss://tokyo-olympic-data@tokyoolympicdatatanvi.dfs.core.windows.net/transformed-data/coaches")

entriesgender.repartition(1).write.mode("overwrite").option("header", 'true').csv(
    "abfss://tokyo-olympic-data@tokyoolympicdatatanvi.dfs.core.windows.net/transformed-data/entriesgender")

medals.repartition(1).write.mode("overwrite").option("header", 'true').csv(
    "abfss://tokyo-olympic-data@tokyoolympicdatatanvi.dfs.core.windows.net/transformed-data/medals")

teams.repartition(1).write.mode("overwrite").option("header", 'true').csv(
    "abfss://tokyo-olympic-data@tokyoolympicdatatanvi.dfs.core.windows.net/transformed-data/teams")

